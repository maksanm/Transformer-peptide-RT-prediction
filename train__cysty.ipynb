{
 "cells": [
  {
   "cell_type": "markdown",
   "id": "8c4de1eb",
   "metadata": {},
   "source": [
    "# Peptide Retention Time Prediction using Encoder-Only Transformer – Training Notebook\n",
    "\n",
    "This notebook trains a Encoder-Only Transformer model to predict peptide retention times from sequence.\n",
    "\n",
    "---\n",
    "\n",
    "## 1. Setup & Imports"
   ]
  },
  {
   "cell_type": "code",
   "execution_count": 13,
   "id": "7cd1fd1f",
   "metadata": {},
   "outputs": [],
   "source": [
    "import sys\n",
    "sys.path.append('./src')  # so we can import rt_transformer.py\n",
    "\n",
    "from rt_transformer import AATokenizer, PeptideRTDataset, PeptideRTEncoderModel, split_dataset, collate, run_epoch, compute_metrics\n",
    "\n",
    "import torch\n",
    "from torch.utils.data import DataLoader\n",
    "\n",
    "import random\n",
    "import matplotlib.pyplot as plt"
   ]
  },
  {
   "cell_type": "markdown",
   "id": "4bc84ca3",
   "metadata": {},
   "source": [
    "## 2. Configuration\n",
    "Set data path, model hyperparameters, and training settings."
   ]
  },
  {
   "cell_type": "code",
   "execution_count": null,
   "id": "e509b598",
   "metadata": {},
   "outputs": [
    {
     "name": "stdout",
     "output_type": "stream",
     "text": [
      "Using device: cuda\n"
     ]
    }
   ],
   "source": [
    "DATA_PATH = \"data/cysty.txt\"\n",
    "MODEL_PATH = \"models/cysty.pt\"\n",
    "\n",
    "# Model config\n",
    "BATCH_SIZE = 128\n",
    "EPOCHS = 120\n",
    "LEARNING_RATE = 5e-4\n",
    "D_MODEL = 160\n",
    "N_HEADS = 8\n",
    "N_LAYERS = 3\n",
    "\n",
    "DEVICE = \"cuda\" if torch.cuda.is_available() else \"cpu\"\n",
    "print(\"Using device:\", DEVICE)\n",
    "\n",
    "# Set random seeds for reproducibility\n",
    "SEED = 42\n",
    "torch.manual_seed(SEED)\n",
    "torch.cuda.manual_seed_all(SEED)\n",
    "random.seed(SEED)\n",
    "torch.backends.cudnn.deterministic = True\n",
    "torch.backends.cudnn.benchmark = False"
   ]
  },
  {
   "cell_type": "markdown",
   "id": "1ca2dcfa",
   "metadata": {},
   "source": [
    "## 3. Data Preparation\n",
    "Load the dataset, split into train/validation, and create DataLoaders."
   ]
  },
  {
   "cell_type": "code",
   "execution_count": null,
   "id": "5d1f8fc4",
   "metadata": {},
   "outputs": [
    {
     "name": "stdout",
     "output_type": "stream",
     "text": [
      "Dataset size: 11041 samples\n",
      "Train samples: 10489, Val samples: 552\n"
     ]
    }
   ],
   "source": [
    "# Initialize tokenizer and dataset\n",
    "tokenizer = AATokenizer()\n",
    "dataset = PeptideRTDataset(DATA_PATH, tokenizer)\n",
    "\n",
    "# Split into train/val\n",
    "train_ds, val_ds = split_dataset(dataset, val_ratio=0.05, seed=SEED)\n",
    "\n",
    "# DataLoaders\n",
    "coll = lambda b: collate(b, tokenizer.pad_id)\n",
    "train_loader = DataLoader(train_ds, batch_size=BATCH_SIZE, shuffle=True, collate_fn=coll)\n",
    "val_loader   = DataLoader(val_ds,   batch_size=BATCH_SIZE, shuffle=False, collate_fn=coll)\n",
    "\n",
    "print(f\"Train samples: {len(train_ds)}, Val samples: {len(val_ds)}\")"
   ]
  },
  {
   "cell_type": "markdown",
   "id": "59ec8430",
   "metadata": {},
   "source": [
    "## 4. Model Initialization\n",
    "Create the Transformer model and optimizer."
   ]
  },
  {
   "cell_type": "code",
   "execution_count": 16,
   "id": "6491ec0a",
   "metadata": {},
   "outputs": [
    {
     "name": "stdout",
     "output_type": "stream",
     "text": [
      "Model size: 958242 parameters\n"
     ]
    }
   ],
   "source": [
    "model = PeptideRTEncoderModel(\n",
    "    tokenizer,\n",
    "    d_model=D_MODEL,\n",
    "    n_heads=N_HEADS,\n",
    "    d_ff=4*D_MODEL,\n",
    "    n_layers=N_LAYERS\n",
    ").to(DEVICE)\n",
    "\n",
    "optimizer = torch.optim.AdamW(model.parameters(), lr=LEARNING_RATE)\n",
    "loss_fn = torch.nn.SmoothL1Loss()\n",
    "\n",
    "print(f\"Model size: {sum(p.numel() for p in model.parameters() if p.requires_grad)} parameters\")"
   ]
  },
  {
   "cell_type": "markdown",
   "id": "a7464856",
   "metadata": {},
   "source": [
    "## 5. Training Loop\n",
    "Train the model and monitor loss."
   ]
  },
  {
   "cell_type": "code",
   "execution_count": 17,
   "id": "eda35c63",
   "metadata": {},
   "outputs": [
    {
     "name": "stdout",
     "output_type": "stream",
     "text": [
      "Epoch   0 | train loss 0.014874 | val loss 0.002923  <-- best val loss so far, model saved\n",
      "Epoch   1 | train loss 0.003306 | val loss 0.002592  <-- best val loss so far, model saved\n",
      "Epoch   2 | train loss 0.002577 | val loss 0.002376  <-- best val loss so far, model saved\n",
      "Epoch   3 | train loss 0.002409 | val loss 0.002022  <-- best val loss so far, model saved\n",
      "Epoch   4 | train loss 0.002203 | val loss 0.001988  <-- best val loss so far, model saved\n",
      "Epoch   5 | train loss 0.002082 | val loss 0.001640  <-- best val loss so far, model saved\n",
      "Epoch   6 | train loss 0.001989 | val loss 0.001825\n",
      "Epoch   7 | train loss 0.001875 | val loss 0.001723\n",
      "Epoch   8 | train loss 0.001877 | val loss 0.001823\n",
      "Epoch   9 | train loss 0.001660 | val loss 0.001715\n",
      "Epoch  10 | train loss 0.001711 | val loss 0.001642\n",
      "Epoch  11 | train loss 0.001654 | val loss 0.001525  <-- best val loss so far, model saved\n",
      "Epoch  12 | train loss 0.001557 | val loss 0.001412  <-- best val loss so far, model saved\n",
      "Epoch  13 | train loss 0.001497 | val loss 0.001810\n",
      "Epoch  14 | train loss 0.001430 | val loss 0.001586\n",
      "Epoch  15 | train loss 0.001345 | val loss 0.001615\n",
      "Epoch  16 | train loss 0.001407 | val loss 0.001485\n",
      "Epoch  17 | train loss 0.001400 | val loss 0.001538\n",
      "Epoch  18 | train loss 0.001333 | val loss 0.001359  <-- best val loss so far, model saved\n",
      "Epoch  19 | train loss 0.001267 | val loss 0.001351  <-- best val loss so far, model saved\n",
      "Epoch  20 | train loss 0.001161 | val loss 0.001395\n",
      "Epoch  21 | train loss 0.001201 | val loss 0.001738\n",
      "Epoch  22 | train loss 0.001197 | val loss 0.001346  <-- best val loss so far, model saved\n",
      "Epoch  23 | train loss 0.001112 | val loss 0.001335  <-- best val loss so far, model saved\n",
      "Epoch  24 | train loss 0.001166 | val loss 0.001422\n",
      "Epoch  25 | train loss 0.001000 | val loss 0.001277  <-- best val loss so far, model saved\n",
      "Epoch  26 | train loss 0.000983 | val loss 0.001345\n",
      "Epoch  27 | train loss 0.000932 | val loss 0.001309\n",
      "Epoch  28 | train loss 0.000945 | val loss 0.001427\n",
      "Epoch  29 | train loss 0.000922 | val loss 0.001341\n",
      "Epoch  30 | train loss 0.000984 | val loss 0.001317\n",
      "Epoch  31 | train loss 0.000913 | val loss 0.001462\n",
      "Epoch  32 | train loss 0.000875 | val loss 0.001298\n",
      "Epoch  33 | train loss 0.000839 | val loss 0.001295\n",
      "Epoch  34 | train loss 0.000801 | val loss 0.001321\n",
      "Epoch  35 | train loss 0.000841 | val loss 0.001559\n",
      "Epoch  36 | train loss 0.000908 | val loss 0.001244  <-- best val loss so far, model saved\n",
      "Epoch  37 | train loss 0.000754 | val loss 0.001465\n",
      "Epoch  38 | train loss 0.000755 | val loss 0.001295\n",
      "Epoch  39 | train loss 0.000715 | val loss 0.001216  <-- best val loss so far, model saved\n",
      "Epoch  40 | train loss 0.000694 | val loss 0.001256\n",
      "Epoch  41 | train loss 0.000688 | val loss 0.001307\n",
      "Epoch  42 | train loss 0.000687 | val loss 0.001230\n",
      "Epoch  43 | train loss 0.000745 | val loss 0.001225\n",
      "Epoch  44 | train loss 0.000661 | val loss 0.001258\n",
      "Epoch  45 | train loss 0.000642 | val loss 0.001318\n",
      "Epoch  46 | train loss 0.000655 | val loss 0.001249\n",
      "Epoch  47 | train loss 0.000632 | val loss 0.001240\n",
      "Epoch  48 | train loss 0.000666 | val loss 0.001216\n",
      "Epoch  49 | train loss 0.000604 | val loss 0.001218\n",
      "Epoch  50 | train loss 0.000624 | val loss 0.001303\n",
      "Epoch  51 | train loss 0.000615 | val loss 0.001324\n",
      "Epoch  52 | train loss 0.000603 | val loss 0.001279\n",
      "Epoch  53 | train loss 0.000566 | val loss 0.001306\n",
      "Epoch  54 | train loss 0.000600 | val loss 0.001402\n",
      "Epoch  55 | train loss 0.000577 | val loss 0.001253\n",
      "Epoch  56 | train loss 0.000598 | val loss 0.001245\n",
      "Epoch  57 | train loss 0.000628 | val loss 0.001342\n",
      "Epoch  58 | train loss 0.000564 | val loss 0.001393\n",
      "Epoch  59 | train loss 0.000526 | val loss 0.001276\n",
      "Epoch  60 | train loss 0.000504 | val loss 0.001248\n",
      "Epoch  61 | train loss 0.000493 | val loss 0.001308\n",
      "Epoch  62 | train loss 0.000507 | val loss 0.001211  <-- best val loss so far, model saved\n",
      "Epoch  63 | train loss 0.000571 | val loss 0.001285\n",
      "Epoch  64 | train loss 0.000497 | val loss 0.001201  <-- best val loss so far, model saved\n",
      "Epoch  65 | train loss 0.000488 | val loss 0.001375\n",
      "Epoch  66 | train loss 0.000491 | val loss 0.001244\n",
      "Epoch  67 | train loss 0.000493 | val loss 0.001225\n",
      "Epoch  68 | train loss 0.000493 | val loss 0.001288\n",
      "Epoch  69 | train loss 0.000490 | val loss 0.001197  <-- best val loss so far, model saved\n",
      "Epoch  70 | train loss 0.000476 | val loss 0.001328\n",
      "Epoch  71 | train loss 0.000482 | val loss 0.001173  <-- best val loss so far, model saved\n",
      "Epoch  72 | train loss 0.000459 | val loss 0.001157  <-- best val loss so far, model saved\n",
      "Epoch  73 | train loss 0.000473 | val loss 0.001379\n",
      "Epoch  74 | train loss 0.000473 | val loss 0.001175\n",
      "Epoch  75 | train loss 0.000494 | val loss 0.001225\n",
      "Epoch  76 | train loss 0.000430 | val loss 0.001285\n",
      "Epoch  77 | train loss 0.000426 | val loss 0.001127  <-- best val loss so far, model saved\n",
      "Epoch  78 | train loss 0.000425 | val loss 0.001129\n",
      "Epoch  79 | train loss 0.000393 | val loss 0.001184\n",
      "Epoch  80 | train loss 0.000457 | val loss 0.001191\n",
      "Epoch  81 | train loss 0.000392 | val loss 0.001137\n",
      "Epoch  82 | train loss 0.000393 | val loss 0.001152\n",
      "Epoch  83 | train loss 0.000397 | val loss 0.001202\n",
      "Epoch  84 | train loss 0.000401 | val loss 0.001109  <-- best val loss so far, model saved\n",
      "Epoch  85 | train loss 0.000446 | val loss 0.001451\n",
      "Epoch  86 | train loss 0.000491 | val loss 0.001172\n",
      "Epoch  87 | train loss 0.000423 | val loss 0.001075  <-- best val loss so far, model saved\n",
      "Epoch  88 | train loss 0.000408 | val loss 0.001198\n",
      "Epoch  89 | train loss 0.000366 | val loss 0.001096\n",
      "Epoch  90 | train loss 0.000352 | val loss 0.001121\n",
      "Epoch  91 | train loss 0.000398 | val loss 0.001079\n",
      "Epoch  92 | train loss 0.000389 | val loss 0.001142\n",
      "Epoch  93 | train loss 0.000390 | val loss 0.001172\n",
      "Epoch  94 | train loss 0.000356 | val loss 0.001089\n",
      "Epoch  95 | train loss 0.000352 | val loss 0.001124\n",
      "Epoch  96 | train loss 0.000333 | val loss 0.001144\n",
      "Epoch  97 | train loss 0.000395 | val loss 0.001195\n",
      "Epoch  98 | train loss 0.000340 | val loss 0.001129\n",
      "Epoch  99 | train loss 0.000369 | val loss 0.001234\n",
      "Epoch 100 | train loss 0.000333 | val loss 0.001127\n",
      "Epoch 101 | train loss 0.000359 | val loss 0.001127\n",
      "Epoch 102 | train loss 0.000393 | val loss 0.001186\n",
      "Epoch 103 | train loss 0.000371 | val loss 0.001105\n",
      "Epoch 104 | train loss 0.000356 | val loss 0.001238\n",
      "Epoch 105 | train loss 0.000336 | val loss 0.001059  <-- best val loss so far, model saved\n",
      "Epoch 106 | train loss 0.000328 | val loss 0.001053  <-- best val loss so far, model saved\n",
      "Epoch 107 | train loss 0.000315 | val loss 0.001086\n",
      "Epoch 108 | train loss 0.000319 | val loss 0.001209\n",
      "Epoch 109 | train loss 0.000373 | val loss 0.001140\n",
      "Epoch 110 | train loss 0.000352 | val loss 0.001210\n",
      "Epoch 111 | train loss 0.000324 | val loss 0.001135\n",
      "Epoch 112 | train loss 0.000295 | val loss 0.001141\n",
      "Epoch 113 | train loss 0.000292 | val loss 0.001135\n",
      "Epoch 114 | train loss 0.000349 | val loss 0.001071\n",
      "Epoch 115 | train loss 0.000330 | val loss 0.001134\n",
      "Epoch 116 | train loss 0.000317 | val loss 0.001110\n",
      "Epoch 117 | train loss 0.000324 | val loss 0.001373\n",
      "Epoch 118 | train loss 0.000368 | val loss 0.001215\n",
      "Epoch 119 | train loss 0.000339 | val loss 0.001129\n"
     ]
    }
   ],
   "source": [
    "train_losses, val_losses = [], []\n",
    "\n",
    "#model.load_state_dict(torch.load(MODEL_PATH, weights_only=True))\n",
    "best_val_loss = float(\"inf\")\n",
    "for epoch in range(0, EPOCHS):\n",
    "    train_loss = run_epoch(model, train_loader, loss_fn, optimizer, DEVICE)\n",
    "    val_loss   = run_epoch(model, val_loader,   loss_fn, None, DEVICE)\n",
    "    train_losses.append(train_loss)\n",
    "    val_losses.append(val_loss)\n",
    "    log_msg = f\"Epoch {epoch:3d} | train loss {train_loss:.6f} | val loss {val_loss:.6f}\"\n",
    "    if val_loss < best_val_loss:\n",
    "        best_val_loss = val_loss\n",
    "        torch.save(model.state_dict(), MODEL_PATH)\n",
    "        log_msg += \"  <-- best val loss so far, model saved\"\n",
    "    print(log_msg)"
   ]
  },
  {
   "cell_type": "markdown",
   "id": "ba0df746",
   "metadata": {},
   "source": [
    "## 6. Plot Training Curve"
   ]
  },
  {
   "cell_type": "code",
   "execution_count": 18,
   "id": "dc468fc3",
   "metadata": {},
   "outputs": [
    {
     "data": {
      "image/png": "[encoded data removed]",
      "text/plain": [
       "<Figure size 1000x800 with 1 Axes>"
      ]
     },
     "metadata": {},
     "output_type": "display_data"
    }
   ],
   "source": [
    "plt.figure(figsize=(10, 8))\n",
    "plt.plot(train_losses, label='Train loss')\n",
    "plt.plot(val_losses, label='Val loss')\n",
    "plt.xlabel('Epoch')\n",
    "plt.ylabel('Loss')\n",
    "plt.legend()\n",
    "plt.title('Training Curve')\n",
    "plt.grid(True)\n",
    "plt.show()"
   ]
  },
  {
   "cell_type": "markdown",
   "id": "92367ddf",
   "metadata": {},
   "source": [
    "## 7. Compute Main Metrics for Trained Model"
   ]
  },
  {
   "cell_type": "code",
   "execution_count": 19,
   "id": "ee44c8f5",
   "metadata": {},
   "outputs": [
    {
     "name": "stdout",
     "output_type": "stream",
     "text": [
      "\n",
      "Validation metrics for model:\n",
      "MAE       : 0.02649\n",
      "MSE       : 0.00211\n",
      "RMSE      : 0.04589\n",
      "Max_Abs_Error: 0.62917\n",
      "Median_Abs_Error: 0.01872\n",
      "Mean_Abs_Percentage_Error: 0.11725\n",
      "Std_Error : 0.04556\n",
      "Std_True  : 0.21053\n",
      "Std_Pred  : 0.20816\n",
      "R2        : 0.95239\n",
      "Explained_Variance: 0.95317\n",
      "Pearson   : 0.97638\n",
      "Spearman  : 0.97869\n"
     ]
    }
   ],
   "source": [
    "model.load_state_dict(torch.load(MODEL_PATH, weights_only=True))\n",
    "\n",
    "model.eval()\n",
    "all_preds, all_trues = [], []\n",
    "with torch.no_grad():\n",
    "    for seqs, mask, rts in val_loader:\n",
    "        seqs, mask, rts = seqs.to(DEVICE), mask.to(DEVICE), rts.to(DEVICE)\n",
    "        preds = model(seqs, mask)\n",
    "        all_preds.append(preds.cpu())\n",
    "        all_trues.append(rts.cpu())\n",
    "all_preds = torch.cat(all_preds)\n",
    "all_trues = torch.cat(all_trues)\n",
    "\n",
    "metrics = compute_metrics(all_preds, all_trues)\n",
    "print(\"\\nValidation metrics for model:\")\n",
    "for k, v in metrics.items():\n",
    "    print(f\"{k:10s}: {v:.5f}\")\n"
   ]
  }
 ],
 "metadata": {
  "kernelspec": {
   "display_name": "Python 3",
   "language": "python",
   "name": "python3"
  },
  "language_info": {
   "codemirror_mode": {
    "name": "ipython",
    "version": 3
   },
   "file_extension": ".py",
   "mimetype": "text/x-python",
   "name": "python",
   "nbconvert_exporter": "python",
   "pygments_lexer": "ipython3",
   "version": "3.12.0"
  }
 },
 "nbformat": 4,
 "nbformat_minor": 5
}
