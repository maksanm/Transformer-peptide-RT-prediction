{
 "cells": [
  {
   "cell_type": "markdown",
   "id": "8c4de1eb",
   "metadata": {},
   "source": [
    "# Peptide Retention Time Prediction using Encoder-Only Transformer – Training Notebook\n",
    "\n",
    "This notebook trains a Encoder-Only Transformer model to predict peptide retention times from sequence.\n",
    "\n",
    "---\n",
    "\n",
    "## 1. Setup & Imports"
   ]
  },
  {
   "cell_type": "code",
   "execution_count": 9,
   "id": "7cd1fd1f",
   "metadata": {},
   "outputs": [],
   "source": [
    "import sys\n",
    "sys.path.append('./src')  # so we can import rt_transformer.py\n",
    "\n",
    "from rt_transformer import AATokenizer, PeptideRTDataset, PeptideRTEncoderModel, split_dataset, collate, run_epoch, compute_metrics\n",
    "\n",
    "import torch\n",
    "from torch import nn\n",
    "from torch.utils.data import DataLoader\n",
    "\n",
    "import random\n",
    "import numpy as np\n",
    "import matplotlib.pyplot as plt"
   ]
  },
  {
   "cell_type": "markdown",
   "id": "4bc84ca3",
   "metadata": {},
   "source": [
    "## 2. Configuration\n",
    "Set data path, model hyperparameters, and training settings."
   ]
  },
  {
   "cell_type": "code",
   "execution_count": 21,
   "id": "e509b598",
   "metadata": {},
   "outputs": [
    {
     "name": "stdout",
     "output_type": "stream",
     "text": [
      "Using device: cuda\n"
     ]
    }
   ],
   "source": [
    "DATA_PATH = \"data/misc_dia.txt\"\n",
    "MODEL_PATH = \"models/rt_encoder_model_misc_dia_64_4_5.pt\"\n",
    "\n",
    "# Model config\n",
    "BATCH_SIZE = 64\n",
    "EPOCHS = 600\n",
    "LEARNING_RATE = 3e-4\n",
    "D_MODEL = 64\n",
    "N_HEADS = 4\n",
    "N_LAYERS = 5\n",
    "\n",
    "DEVICE = \"cuda\" if torch.cuda.is_available() else \"cpu\"\n",
    "print(\"Using device:\", DEVICE)\n",
    "\n",
    "# Set random seeds for reproducibility\n",
    "SEED = 42\n",
    "torch.manual_seed(SEED)\n",
    "random.seed(SEED)\n",
    "np.random.seed(SEED)"
   ]
  },
  {
   "cell_type": "markdown",
   "id": "1ca2dcfa",
   "metadata": {},
   "source": [
    "## 3. Data Preparation\n",
    "Load the dataset, split into train/validation, and create DataLoaders."
   ]
  },
  {
   "cell_type": "code",
   "execution_count": 22,
   "id": "5d1f8fc4",
   "metadata": {},
   "outputs": [
    {
     "name": "stdout",
     "output_type": "stream",
     "text": [
      "Train samples: 139258, Val samples: 7329\n"
     ]
    }
   ],
   "source": [
    "# Initialize tokenizer and dataset\n",
    "tokenizer = AATokenizer()\n",
    "dataset = PeptideRTDataset(DATA_PATH, tokenizer)\n",
    "\n",
    "# Split into train/val\n",
    "train_ds, val_ds = split_dataset(dataset, val_ratio=0.05, seed=SEED)\n",
    "\n",
    "# DataLoaders\n",
    "coll = lambda b: collate(b, tokenizer.pad_id)\n",
    "train_loader = DataLoader(train_ds, batch_size=BATCH_SIZE, shuffle=True, collate_fn=coll)\n",
    "val_loader   = DataLoader(val_ds,   batch_size=BATCH_SIZE, shuffle=False, collate_fn=coll)\n",
    "\n",
    "print(f\"Train samples: {len(train_ds)}, Val samples: {len(val_ds)}\")"
   ]
  },
  {
   "cell_type": "markdown",
   "id": "59ec8430",
   "metadata": {},
   "source": [
    "## 4. Model Initialization\n",
    "Create the Transformer model and optimizer."
   ]
  },
  {
   "cell_type": "code",
   "execution_count": 23,
   "id": "6491ec0a",
   "metadata": {},
   "outputs": [
    {
     "name": "stdout",
     "output_type": "stream",
     "text": [
      "Model size: 255938 parameters\n"
     ]
    }
   ],
   "source": [
    "model = PeptideRTEncoderModel(\n",
    "    tokenizer,\n",
    "    d_model=D_MODEL,\n",
    "    n_heads=N_HEADS,\n",
    "    d_ff=4*D_MODEL,\n",
    "    n_layers=N_LAYERS\n",
    ")\n",
    "\n",
    "if torch.cuda.is_available():\n",
    "    model = nn.DataParallel(model)\n",
    "\n",
    "model=model.to(DEVICE)\n",
    "\n",
    "optimizer = torch.optim.Adam(model.parameters(), lr=LEARNING_RATE)\n",
    "loss_fn = torch.nn.SmoothL1Loss()\n",
    "\n",
    "print(f\"Model size: {sum(p.numel() for p in model.parameters() if p.requires_grad)} parameters\")"
   ]
  },
  {
   "cell_type": "markdown",
   "id": "a7464856",
   "metadata": {},
   "source": [
    "## 5. Training Loop\n",
    "Train the model and monitor loss."
   ]
  },
  {
   "cell_type": "code",
   "execution_count": null,
   "id": "eda35c63",
   "metadata": {},
   "outputs": [
    {
     "name": "stdout",
     "output_type": "stream",
     "text": [
      "Epoch 500 | train loss 230.692542 | val loss 182.061528\n",
      "Epoch 501 | train loss 229.961001 | val loss 167.163895\n",
      "Epoch 502 | train loss 230.339582 | val loss 160.709685\n",
      "Epoch 503 | train loss 230.630690 | val loss 154.411406\n",
      "Epoch 504 | train loss 230.213602 | val loss 169.791331\n",
      "Epoch 505 | train loss 230.029392 | val loss 174.010818\n",
      "Epoch 506 | train loss 230.925747 | val loss 156.222811\n",
      "Epoch 507 | train loss 230.360642 | val loss 166.067663\n",
      "Epoch 508 | train loss 230.788324 | val loss 188.375597\n",
      "Epoch 509 | train loss 230.530945 | val loss 163.304451\n",
      "Epoch 510 | train loss 231.003127 | val loss 169.914494\n",
      "Epoch 511 | train loss 230.237441 | val loss 167.705730\n",
      "Epoch 512 | train loss 230.611270 | val loss 162.765260\n",
      "Epoch 513 | train loss 230.928723 | val loss 154.383127\n",
      "Epoch 514 | train loss 229.428284 | val loss 175.403997\n",
      "Epoch 515 | train loss 230.434982 | val loss 160.755615\n",
      "Epoch 516 | train loss 229.239707 | val loss 166.016869\n",
      "Epoch 517 | train loss 231.335755 | val loss 171.562344\n",
      "Epoch 518 | train loss 231.183509 | val loss 162.582282\n",
      "Epoch 519 | train loss 230.094643 | val loss 160.354057\n",
      "Epoch 520 | train loss 229.646151 | val loss 180.281029\n",
      "Epoch 521 | train loss 228.839160 | val loss 175.421367\n",
      "Epoch 522 | train loss 230.083334 | val loss 168.599781\n",
      "Epoch 523 | train loss 229.776209 | val loss 177.005621\n",
      "Epoch 524 | train loss 229.794083 | val loss 157.698760\n",
      "Epoch 525 | train loss 229.363408 | val loss 165.775505\n",
      "Epoch 526 | train loss 228.682198 | val loss 169.101766\n",
      "Epoch 527 | train loss 229.677887 | val loss 181.814098\n",
      "Epoch 528 | train loss 230.486700 | val loss 167.340494\n",
      "Epoch 529 | train loss 229.663328 | val loss 155.189349\n",
      "Epoch 530 | train loss 230.165070 | val loss 162.974368\n",
      "Epoch 531 | train loss 230.074003 | val loss 157.242665\n",
      "Epoch 532 | train loss 229.134239 | val loss 169.000736\n",
      "Epoch 533 | train loss 229.256667 | val loss 153.019532\n",
      "Epoch 534 | train loss 230.387587 | val loss 175.329866\n",
      "Epoch 535 | train loss 229.328186 | val loss 159.458773\n",
      "Epoch 536 | train loss 230.657268 | val loss 158.795825\n",
      "Epoch 537 | train loss 229.253773 | val loss 168.444618\n",
      "Epoch 538 | train loss 229.674261 | val loss 173.520372\n",
      "Epoch 539 | train loss 230.164482 | val loss 160.778449\n",
      "Epoch 540 | train loss 229.514125 | val loss 164.883935\n",
      "Epoch 541 | train loss 229.889354 | val loss 169.109433\n",
      "Epoch 542 | train loss 229.031184 | val loss 153.783782\n",
      "Epoch 543 | train loss 229.844630 | val loss 166.671320\n",
      "Epoch 544 | train loss 229.722954 | val loss 168.432118\n",
      "Epoch 545 | train loss 230.373506 | val loss 167.844358\n",
      "Epoch 546 | train loss 229.236010 | val loss 163.404641\n",
      "Epoch 547 | train loss 230.099638 | val loss 177.657032\n",
      "Epoch 548 | train loss 229.547547 | val loss 158.681165\n",
      "Epoch 549 | train loss 230.205988 | val loss 168.868288\n",
      "Epoch 550 | train loss 228.835407 | val loss 156.436035\n",
      "Epoch 551 | train loss 229.675551 | val loss 156.923507\n",
      "Epoch 552 | train loss 229.491866 | val loss 175.395557\n",
      "Epoch 553 | train loss 228.741300 | val loss 167.732836\n",
      "Epoch 554 | train loss 229.681897 | val loss 165.808994\n",
      "Epoch 555 | train loss 230.033650 | val loss 166.018921\n",
      "Epoch 556 | train loss 228.941324 | val loss 182.709558\n",
      "Epoch 557 | train loss 230.308937 | val loss 156.435705\n",
      "Epoch 558 | train loss 229.320151 | val loss 157.787529\n",
      "Epoch 559 | train loss 229.590477 | val loss 159.397097\n",
      "Epoch 560 | train loss 229.708202 | val loss 164.602724\n",
      "Epoch 561 | train loss 228.893927 | val loss 169.504140\n",
      "Epoch 562 | train loss 228.830643 | val loss 156.533521\n",
      "Epoch 563 | train loss 229.408078 | val loss 158.011327\n",
      "Epoch 564 | train loss 229.360530 | val loss 172.450122\n",
      "Epoch 565 | train loss 229.960726 | val loss 163.554520\n",
      "Epoch 566 | train loss 229.472735 | val loss 164.550461\n",
      "Epoch 567 | train loss 229.486038 | val loss 181.514852\n",
      "Epoch 568 | train loss 229.154239 | val loss 153.607853\n",
      "Epoch 569 | train loss 228.992748 | val loss 160.017971\n",
      "Epoch 570 | train loss 228.668904 | val loss 169.093104\n",
      "Epoch 571 | train loss 229.313383 | val loss 167.135069\n",
      "Epoch 572 | train loss 229.052668 | val loss 164.305679\n",
      "Epoch 573 | train loss 230.441620 | val loss 153.545270\n",
      "Epoch 574 | train loss 228.822871 | val loss 159.266886\n",
      "Epoch 575 | train loss 228.852012 | val loss 156.682303\n",
      "Epoch 576 | train loss 227.431060 | val loss 164.315095\n",
      "Epoch 577 | train loss 229.886182 | val loss 166.752415\n",
      "Epoch 578 | train loss 228.610046 | val loss 161.976932\n",
      "Epoch 579 | train loss 229.925315 | val loss 167.140649\n",
      "Epoch 580 | train loss 228.375592 | val loss 181.767820\n",
      "Epoch 581 | train loss 227.850385 | val loss 154.976434\n",
      "Epoch 582 | train loss 229.160199 | val loss 169.717083\n",
      "Epoch 583 | train loss 229.125477 | val loss 159.870297\n",
      "Epoch 584 | train loss 229.105940 | val loss 167.315009\n",
      "Epoch 585 | train loss 228.615555 | val loss 161.113959\n",
      "Epoch 586 | train loss 228.139622 | val loss 164.283622\n",
      "Epoch 587 | train loss 229.207237 | val loss 162.952733\n",
      "Epoch 588 | train loss 228.842059 | val loss 164.053669\n",
      "Epoch 589 | train loss 228.635287 | val loss 190.182468\n",
      "Epoch 590 | train loss 227.964915 | val loss 161.097285\n",
      "Epoch 591 | train loss 229.172586 | val loss 163.294306\n",
      "Epoch 592 | train loss 227.911790 | val loss 166.858327\n",
      "Epoch 593 | train loss 228.421550 | val loss 161.954063\n",
      "Epoch 594 | train loss 228.577053 | val loss 162.787712\n",
      "Epoch 595 | train loss 227.813206 | val loss 157.780964\n",
      "Epoch 596 | train loss 227.840534 | val loss 176.394358\n",
      "Epoch 597 | train loss 227.749480 | val loss 162.498681\n",
      "Epoch 598 | train loss 228.118794 | val loss 155.950960\n"
     ]
    },
    {
     "ename": "KeyboardInterrupt",
     "evalue": "",
     "output_type": "error",
     "traceback": [
      "\u001b[31m---------------------------------------------------------------------------\u001b[39m",
      "\u001b[31mKeyboardInterrupt\u001b[39m                         Traceback (most recent call last)",
      "\u001b[36mCell\u001b[39m\u001b[36m \u001b[39m\u001b[32mIn[16]\u001b[39m\u001b[32m, line 5\u001b[39m\n\u001b[32m      3\u001b[39m model.load_state_dict(torch.load(MODEL_PATH, weights_only=\u001b[38;5;28;01mTrue\u001b[39;00m))\n\u001b[32m      4\u001b[39m \u001b[38;5;28;01mfor\u001b[39;00m epoch \u001b[38;5;129;01min\u001b[39;00m \u001b[38;5;28mrange\u001b[39m(\u001b[32m500\u001b[39m, \u001b[32m500\u001b[39m+EPOCHS+\u001b[32m1\u001b[39m):\n\u001b[32m----> \u001b[39m\u001b[32m5\u001b[39m     train_loss = \u001b[43mrun_epoch\u001b[49m\u001b[43m(\u001b[49m\u001b[43mmodel\u001b[49m\u001b[43m,\u001b[49m\u001b[43m \u001b[49m\u001b[43mtrain_loader\u001b[49m\u001b[43m,\u001b[49m\u001b[43m \u001b[49m\u001b[43mloss_fn\u001b[49m\u001b[43m,\u001b[49m\u001b[43m \u001b[49m\u001b[43moptimizer\u001b[49m\u001b[43m,\u001b[49m\u001b[43m \u001b[49m\u001b[43mDEVICE\u001b[49m\u001b[43m)\u001b[49m\n\u001b[32m      6\u001b[39m     val_loss   = run_epoch(model, val_loader,   loss_fn, \u001b[38;5;28;01mNone\u001b[39;00m, DEVICE)\n\u001b[32m      7\u001b[39m     train_losses.append(train_loss)\n",
      "\u001b[36mFile \u001b[39m\u001b[32mc:\\Users\\mmakaranka\\Desktop\\UMB\\src\\utils.py:37\u001b[39m, in \u001b[36mrun_epoch\u001b[39m\u001b[34m(model, loader, loss_fn, opt, device)\u001b[39m\n\u001b[32m     35\u001b[39m \u001b[38;5;28;01mif\u001b[39;00m train:\n\u001b[32m     36\u001b[39m     opt.zero_grad(set_to_none=\u001b[38;5;28;01mTrue\u001b[39;00m)\n\u001b[32m---> \u001b[39m\u001b[32m37\u001b[39m     \u001b[43mloss\u001b[49m\u001b[43m.\u001b[49m\u001b[43mbackward\u001b[49m\u001b[43m(\u001b[49m\u001b[43m)\u001b[49m\n\u001b[32m     38\u001b[39m     opt.step()\n\u001b[32m     39\u001b[39m total += rts.numel()\n",
      "\u001b[36mFile \u001b[39m\u001b[32mc:\\Users\\mmakaranka\\AppData\\Local\\pypoetry\\Cache\\virtualenvs\\peptide-rt-transformer-7ashheYG-py3.12\\Lib\\site-packages\\torch\\_tensor.py:648\u001b[39m, in \u001b[36mTensor.backward\u001b[39m\u001b[34m(self, gradient, retain_graph, create_graph, inputs)\u001b[39m\n\u001b[32m    638\u001b[39m \u001b[38;5;28;01mif\u001b[39;00m has_torch_function_unary(\u001b[38;5;28mself\u001b[39m):\n\u001b[32m    639\u001b[39m     \u001b[38;5;28;01mreturn\u001b[39;00m handle_torch_function(\n\u001b[32m    640\u001b[39m         Tensor.backward,\n\u001b[32m    641\u001b[39m         (\u001b[38;5;28mself\u001b[39m,),\n\u001b[32m   (...)\u001b[39m\u001b[32m    646\u001b[39m         inputs=inputs,\n\u001b[32m    647\u001b[39m     )\n\u001b[32m--> \u001b[39m\u001b[32m648\u001b[39m \u001b[43mtorch\u001b[49m\u001b[43m.\u001b[49m\u001b[43mautograd\u001b[49m\u001b[43m.\u001b[49m\u001b[43mbackward\u001b[49m\u001b[43m(\u001b[49m\n\u001b[32m    649\u001b[39m \u001b[43m    \u001b[49m\u001b[38;5;28;43mself\u001b[39;49m\u001b[43m,\u001b[49m\u001b[43m \u001b[49m\u001b[43mgradient\u001b[49m\u001b[43m,\u001b[49m\u001b[43m \u001b[49m\u001b[43mretain_graph\u001b[49m\u001b[43m,\u001b[49m\u001b[43m \u001b[49m\u001b[43mcreate_graph\u001b[49m\u001b[43m,\u001b[49m\u001b[43m \u001b[49m\u001b[43minputs\u001b[49m\u001b[43m=\u001b[49m\u001b[43minputs\u001b[49m\n\u001b[32m    650\u001b[39m \u001b[43m\u001b[49m\u001b[43m)\u001b[49m\n",
      "\u001b[36mFile \u001b[39m\u001b[32mc:\\Users\\mmakaranka\\AppData\\Local\\pypoetry\\Cache\\virtualenvs\\peptide-rt-transformer-7ashheYG-py3.12\\Lib\\site-packages\\torch\\autograd\\__init__.py:353\u001b[39m, in \u001b[36mbackward\u001b[39m\u001b[34m(tensors, grad_tensors, retain_graph, create_graph, grad_variables, inputs)\u001b[39m\n\u001b[32m    348\u001b[39m     retain_graph = create_graph\n\u001b[32m    350\u001b[39m \u001b[38;5;66;03m# The reason we repeat the same comment below is that\u001b[39;00m\n\u001b[32m    351\u001b[39m \u001b[38;5;66;03m# some Python versions print out the first line of a multi-line function\u001b[39;00m\n\u001b[32m    352\u001b[39m \u001b[38;5;66;03m# calls in the traceback and some print out the last line\u001b[39;00m\n\u001b[32m--> \u001b[39m\u001b[32m353\u001b[39m \u001b[43m_engine_run_backward\u001b[49m\u001b[43m(\u001b[49m\n\u001b[32m    354\u001b[39m \u001b[43m    \u001b[49m\u001b[43mtensors\u001b[49m\u001b[43m,\u001b[49m\n\u001b[32m    355\u001b[39m \u001b[43m    \u001b[49m\u001b[43mgrad_tensors_\u001b[49m\u001b[43m,\u001b[49m\n\u001b[32m    356\u001b[39m \u001b[43m    \u001b[49m\u001b[43mretain_graph\u001b[49m\u001b[43m,\u001b[49m\n\u001b[32m    357\u001b[39m \u001b[43m    \u001b[49m\u001b[43mcreate_graph\u001b[49m\u001b[43m,\u001b[49m\n\u001b[32m    358\u001b[39m \u001b[43m    \u001b[49m\u001b[43minputs\u001b[49m\u001b[43m,\u001b[49m\n\u001b[32m    359\u001b[39m \u001b[43m    \u001b[49m\u001b[43mallow_unreachable\u001b[49m\u001b[43m=\u001b[49m\u001b[38;5;28;43;01mTrue\u001b[39;49;00m\u001b[43m,\u001b[49m\n\u001b[32m    360\u001b[39m \u001b[43m    \u001b[49m\u001b[43maccumulate_grad\u001b[49m\u001b[43m=\u001b[49m\u001b[38;5;28;43;01mTrue\u001b[39;49;00m\u001b[43m,\u001b[49m\n\u001b[32m    361\u001b[39m \u001b[43m\u001b[49m\u001b[43m)\u001b[49m\n",
      "\u001b[36mFile \u001b[39m\u001b[32mc:\\Users\\mmakaranka\\AppData\\Local\\pypoetry\\Cache\\virtualenvs\\peptide-rt-transformer-7ashheYG-py3.12\\Lib\\site-packages\\torch\\autograd\\graph.py:824\u001b[39m, in \u001b[36m_engine_run_backward\u001b[39m\u001b[34m(t_outputs, *args, **kwargs)\u001b[39m\n\u001b[32m    822\u001b[39m     unregister_hooks = _register_logging_hooks_on_whole_graph(t_outputs)\n\u001b[32m    823\u001b[39m \u001b[38;5;28;01mtry\u001b[39;00m:\n\u001b[32m--> \u001b[39m\u001b[32m824\u001b[39m     \u001b[38;5;28;01mreturn\u001b[39;00m \u001b[43mVariable\u001b[49m\u001b[43m.\u001b[49m\u001b[43m_execution_engine\u001b[49m\u001b[43m.\u001b[49m\u001b[43mrun_backward\u001b[49m\u001b[43m(\u001b[49m\u001b[43m  \u001b[49m\u001b[38;5;66;43;03m# Calls into the C++ engine to run the backward pass\u001b[39;49;00m\n\u001b[32m    825\u001b[39m \u001b[43m        \u001b[49m\u001b[43mt_outputs\u001b[49m\u001b[43m,\u001b[49m\u001b[43m \u001b[49m\u001b[43m*\u001b[49m\u001b[43margs\u001b[49m\u001b[43m,\u001b[49m\u001b[43m \u001b[49m\u001b[43m*\u001b[49m\u001b[43m*\u001b[49m\u001b[43mkwargs\u001b[49m\n\u001b[32m    826\u001b[39m \u001b[43m    \u001b[49m\u001b[43m)\u001b[49m  \u001b[38;5;66;03m# Calls into the C++ engine to run the backward pass\u001b[39;00m\n\u001b[32m    827\u001b[39m \u001b[38;5;28;01mfinally\u001b[39;00m:\n\u001b[32m    828\u001b[39m     \u001b[38;5;28;01mif\u001b[39;00m attach_logging_hooks:\n",
      "\u001b[31mKeyboardInterrupt\u001b[39m: "
     ]
    }
   ],
   "source": [
    "train_losses, val_losses = [], []\n",
    "\n",
    "#model.load_state_dict(torch.load(MODEL_PATH, weights_only=True))\n",
    "for epoch in range(0, EPOCHS):\n",
    "    train_loss = run_epoch(model, train_loader, loss_fn, optimizer, DEVICE)\n",
    "    val_loss   = run_epoch(model, val_loader,   loss_fn, None, DEVICE)\n",
    "    train_losses.append(train_loss)\n",
    "    val_losses.append(val_loss)\n",
    "    print(f\"Epoch {epoch:3d} | train loss {train_loss:.6f} | val loss {val_loss:.6f}\")\n",
    "    torch.save(model.state_dict(), MODEL_PATH)"
   ]
  },
  {
   "cell_type": "markdown",
   "id": "ba0df746",
   "metadata": {},
   "source": [
    "## 6. Plot Training Curve"
   ]
  },
  {
   "cell_type": "code",
   "execution_count": 14,
   "id": "dc468fc3",
   "metadata": {},
   "outputs": [
    {
     "data": {
      "image/png": "[encoded data removed]",
      "text/plain": [
       "<Figure size 1000x800 with 1 Axes>"
      ]
     },
     "metadata": {},
     "output_type": "display_data"
    }
   ],
   "source": [
    "plt.figure(figsize=(10, 8))\n",
    "plt.plot(train_losses, label='Train loss')\n",
    "plt.plot(val_losses, label='Val loss')\n",
    "plt.xlabel('Epoch')\n",
    "plt.ylabel('Loss')\n",
    "plt.legend()\n",
    "plt.title('Training Curve')\n",
    "plt.grid(True)\n",
    "plt.show()"
   ]
  },
  {
   "cell_type": "markdown",
   "id": "92367ddf",
   "metadata": {},
   "source": [
    "## 7. Compute Main Metrics for Trained Model"
   ]
  },
  {
   "cell_type": "code",
   "execution_count": 24,
   "id": "ee44c8f5",
   "metadata": {},
   "outputs": [
    {
     "name": "stdout",
     "output_type": "stream",
     "text": [
      "\n",
      "Validation metrics for model:\n",
      "MAE       : 124.70908\n",
      "MSE       : 30580.97461\n",
      "RMSE      : 174.87416\n",
      "Max_Abs_Error: 1438.52344\n",
      "Median_Abs_Error: 92.15338\n",
      "Mean_Abs_Percentage_Error: inf\n",
      "Std_Error : 174.85783\n",
      "Std_True  : 2751.13403\n",
      "Std_Pred  : 2766.68701\n",
      "R2        : 0.99596\n",
      "Explained_Variance: 0.99596\n",
      "Pearson   : 0.99801\n",
      "Spearman  : 0.99837\n"
     ]
    }
   ],
   "source": [
    "model.load_state_dict(torch.load(MODEL_PATH, weights_only=True))\n",
    "\n",
    "model.eval()\n",
    "all_preds, all_trues = [], []\n",
    "with torch.no_grad():\n",
    "    for seqs, mask, rts in val_loader:\n",
    "        seqs, mask, rts = seqs.to(DEVICE), mask.to(DEVICE), rts.to(DEVICE)\n",
    "        preds = model(seqs, mask)\n",
    "        all_preds.append(preds.cpu())\n",
    "        all_trues.append(rts.cpu())\n",
    "all_preds = torch.cat(all_preds)\n",
    "all_trues = torch.cat(all_trues)\n",
    "\n",
    "metrics = compute_metrics(all_preds, all_trues)\n",
    "print(\"\\nValidation metrics for model:\")\n",
    "for k, v in metrics.items():\n",
    "    print(f\"{k:10s}: {v:.5f}\")\n"
   ]
  }
 ],
 "metadata": {
  "kernelspec": {
   "display_name": "peptide-rt-transformer-7ashheYG-py3.12",
   "language": "python",
   "name": "python3"
  },
  "language_info": {
   "codemirror_mode": {
    "name": "ipython",
    "version": 3
   },
   "file_extension": ".py",
   "mimetype": "text/x-python",
   "name": "python",
   "nbconvert_exporter": "python",
   "pygments_lexer": "ipython3",
   "version": "3.12.0"
  }
 },
 "nbformat": 4,
 "nbformat_minor": 5
}
