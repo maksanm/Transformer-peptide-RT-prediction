{
 "cells": [
  {
   "cell_type": "markdown",
   "id": "8c4de1eb",
   "metadata": {},
   "source": [
    "# Peptide Retention Time Prediction using Encoder-Only Transformer – Training Notebook\n",
    "\n",
    "This notebook trains a Encoder-Only Transformer model to predict peptide retention times from sequence.\n",
    "\n",
    "---\n",
    "\n",
    "## 1. Setup & Imports"
   ]
  },
  {
   "cell_type": "code",
   "execution_count": 1,
   "id": "7cd1fd1f",
   "metadata": {},
   "outputs": [],
   "source": [
    "import sys\n",
    "sys.path.append('./src')  # so we can import rt_transformer.py\n",
    "\n",
    "from rt_transformer import AATokenizer, PeptideRTDataset, PeptideRTEncoderModel, split_dataset, collate, run_epoch, compute_metrics\n",
    "\n",
    "import torch\n",
    "from torch.utils.data import DataLoader\n",
    "\n",
    "import random\n",
    "import matplotlib.pyplot as plt"
   ]
  },
  {
   "cell_type": "markdown",
   "id": "4bc84ca3",
   "metadata": {},
   "source": [
    "## 2. Configuration\n",
    "Set data path, model hyperparameters, and training settings."
   ]
  },
  {
   "cell_type": "code",
   "execution_count": null,
   "id": "e509b598",
   "metadata": {},
   "outputs": [
    {
     "name": "stdout",
     "output_type": "stream",
     "text": [
      "Using device: cuda\n"
     ]
    }
   ],
   "source": [
    "DATA_PATH = \"data/misc_dia.txt\"\n",
    "MODEL_PATH = \"models/misc_dia.pt\"\n",
    "\n",
    "# Model config\n",
    "BATCH_SIZE = 256\n",
    "EPOCHS = 300\n",
    "LEARNING_RATE = 1e-3\n",
    "D_MODEL = 160\n",
    "N_HEADS = 8\n",
    "N_LAYERS = 5\n",
    "\n",
    "DEVICE = \"cuda\" if torch.cuda.is_available() else \"cpu\"\n",
    "print(\"Using device:\", DEVICE)\n",
    "\n",
    "# Set random seeds for reproducibility\n",
    "SEED = 42\n",
    "torch.manual_seed(SEED)\n",
    "torch.cuda.manual_seed_all(SEED)\n",
    "random.seed(SEED)\n",
    "torch.backends.cudnn.deterministic = True\n",
    "torch.backends.cudnn.benchmark = False"
   ]
  },
  {
   "cell_type": "markdown",
   "id": "1ca2dcfa",
   "metadata": {},
   "source": [
    "## 3. Data Preparation\n",
    "Load the dataset, split into train/validation, and create DataLoaders."
   ]
  },
  {
   "cell_type": "code",
   "execution_count": 3,
   "id": "5d1f8fc4",
   "metadata": {},
   "outputs": [
    {
     "name": "stdout",
     "output_type": "stream",
     "text": [
      "Train samples: 139258, Val samples: 7329\n"
     ]
    }
   ],
   "source": [
    "# Initialize tokenizer and dataset\n",
    "tokenizer = AATokenizer()\n",
    "dataset = PeptideRTDataset(DATA_PATH, tokenizer)\n",
    "\n",
    "# Split into train/val\n",
    "train_ds, val_ds = split_dataset(dataset, val_ratio=0.05, seed=SEED)\n",
    "\n",
    "# DataLoaders\n",
    "coll = lambda b: collate(b, tokenizer.pad_id)\n",
    "train_loader = DataLoader(train_ds, batch_size=BATCH_SIZE, shuffle=True, collate_fn=coll)\n",
    "val_loader   = DataLoader(val_ds,   batch_size=BATCH_SIZE, shuffle=False, collate_fn=coll)\n",
    "\n",
    "print(f\"Train samples: {len(train_ds)}, Val samples: {len(val_ds)}\")"
   ]
  },
  {
   "cell_type": "markdown",
   "id": "59ec8430",
   "metadata": {},
   "source": [
    "## 4. Model Initialization\n",
    "Create the Transformer model and optimizer."
   ]
  },
  {
   "cell_type": "code",
   "execution_count": 4,
   "id": "6491ec0a",
   "metadata": {},
   "outputs": [
    {
     "name": "stdout",
     "output_type": "stream",
     "text": [
      "Model size: 1576802 parameters\n"
     ]
    }
   ],
   "source": [
    "model = PeptideRTEncoderModel(\n",
    "    tokenizer,\n",
    "    d_model=D_MODEL,\n",
    "    n_heads=N_HEADS,\n",
    "    d_ff=4*D_MODEL,\n",
    "    n_layers=N_LAYERS\n",
    ").to(DEVICE)\n",
    "\n",
    "optimizer = torch.optim.AdamW(model.parameters(), lr=LEARNING_RATE)\n",
    "loss_fn = torch.nn.SmoothL1Loss()\n",
    "\n",
    "print(f\"Model size: {sum(p.numel() for p in model.parameters() if p.requires_grad)} parameters\")"
   ]
  },
  {
   "cell_type": "markdown",
   "id": "a7464856",
   "metadata": {},
   "source": [
    "## 5. Training Loop\n",
    "Train the model and monitor loss."
   ]
  },
  {
   "cell_type": "code",
   "execution_count": 5,
   "id": "eda35c63",
   "metadata": {},
   "outputs": [
    {
     "name": "stdout",
     "output_type": "stream",
     "text": [
      "Epoch   0 | train loss 0.011312 | val loss 0.000886  <-- best val loss so far, model saved\n",
      "Epoch   1 | train loss 0.001133 | val loss 0.000977\n",
      "Epoch   2 | train loss 0.000989 | val loss 0.000808  <-- best val loss so far, model saved\n",
      "Epoch   3 | train loss 0.000894 | val loss 0.000745  <-- best val loss so far, model saved\n",
      "Epoch   4 | train loss 0.000804 | val loss 0.000593  <-- best val loss so far, model saved\n",
      "Epoch   5 | train loss 0.000703 | val loss 0.000539  <-- best val loss so far, model saved\n",
      "Epoch   6 | train loss 0.000652 | val loss 0.000598\n",
      "Epoch   7 | train loss 0.000588 | val loss 0.000485  <-- best val loss so far, model saved\n",
      "Epoch   8 | train loss 0.000567 | val loss 0.000412  <-- best val loss so far, model saved\n",
      "Epoch   9 | train loss 0.000521 | val loss 0.000473\n",
      "Epoch  10 | train loss 0.000512 | val loss 0.000437\n",
      "Epoch  11 | train loss 0.000478 | val loss 0.000339  <-- best val loss so far, model saved\n",
      "Epoch  12 | train loss 0.000469 | val loss 0.000364\n",
      "Epoch  13 | train loss 0.000438 | val loss 0.000334  <-- best val loss so far, model saved\n",
      "Epoch  14 | train loss 0.000437 | val loss 0.000342\n",
      "Epoch  15 | train loss 0.000411 | val loss 0.000387\n",
      "Epoch  16 | train loss 0.000411 | val loss 0.000302  <-- best val loss so far, model saved\n",
      "Epoch  17 | train loss 0.000384 | val loss 0.000297  <-- best val loss so far, model saved\n",
      "Epoch  18 | train loss 0.000383 | val loss 0.000277  <-- best val loss so far, model saved\n",
      "Epoch  19 | train loss 0.000365 | val loss 0.000298\n",
      "Epoch  20 | train loss 0.000363 | val loss 0.000334\n",
      "Epoch  21 | train loss 0.000360 | val loss 0.000289\n",
      "Epoch  22 | train loss 0.000337 | val loss 0.000258  <-- best val loss so far, model saved\n",
      "Epoch  23 | train loss 0.000333 | val loss 0.000255  <-- best val loss so far, model saved\n",
      "Epoch  24 | train loss 0.000328 | val loss 0.000248  <-- best val loss so far, model saved\n",
      "Epoch  25 | train loss 0.000310 | val loss 0.000241  <-- best val loss so far, model saved\n",
      "Epoch  26 | train loss 0.000309 | val loss 0.000230  <-- best val loss so far, model saved\n",
      "Epoch  27 | train loss 0.000297 | val loss 0.000229  <-- best val loss so far, model saved\n",
      "Epoch  28 | train loss 0.000297 | val loss 0.000224  <-- best val loss so far, model saved\n",
      "Epoch  29 | train loss 0.000292 | val loss 0.000308\n",
      "Epoch  30 | train loss 0.000284 | val loss 0.000227\n",
      "Epoch  31 | train loss 0.000274 | val loss 0.000283\n",
      "Epoch  32 | train loss 0.000272 | val loss 0.000244\n",
      "Epoch  33 | train loss 0.000259 | val loss 0.000212  <-- best val loss so far, model saved\n",
      "Epoch  34 | train loss 0.000259 | val loss 0.000202  <-- best val loss so far, model saved\n",
      "Epoch  35 | train loss 0.000254 | val loss 0.000205\n",
      "Epoch  36 | train loss 0.000248 | val loss 0.000204\n",
      "Epoch  37 | train loss 0.000246 | val loss 0.000207\n",
      "Epoch  38 | train loss 0.000243 | val loss 0.000194  <-- best val loss so far, model saved\n",
      "Epoch  39 | train loss 0.000242 | val loss 0.000187  <-- best val loss so far, model saved\n",
      "Epoch  40 | train loss 0.000236 | val loss 0.000189\n",
      "Epoch  41 | train loss 0.000233 | val loss 0.000188\n",
      "Epoch  42 | train loss 0.000228 | val loss 0.000189\n",
      "Epoch  43 | train loss 0.000225 | val loss 0.000175  <-- best val loss so far, model saved\n",
      "Epoch  44 | train loss 0.000228 | val loss 0.000250\n",
      "Epoch  45 | train loss 0.000219 | val loss 0.000181\n",
      "Epoch  46 | train loss 0.000217 | val loss 0.000231\n",
      "Epoch  47 | train loss 0.000211 | val loss 0.000221\n",
      "Epoch  48 | train loss 0.000213 | val loss 0.000189\n",
      "Epoch  49 | train loss 0.000208 | val loss 0.000176\n",
      "Epoch  50 | train loss 0.000209 | val loss 0.000153  <-- best val loss so far, model saved\n",
      "Epoch  51 | train loss 0.000207 | val loss 0.000219\n",
      "Epoch  52 | train loss 0.000205 | val loss 0.000169\n",
      "Epoch  53 | train loss 0.000201 | val loss 0.000184\n",
      "Epoch  54 | train loss 0.000199 | val loss 0.000155\n",
      "Epoch  55 | train loss 0.000196 | val loss 0.000192\n",
      "Epoch  56 | train loss 0.000199 | val loss 0.000166\n",
      "Epoch  57 | train loss 0.000191 | val loss 0.000172\n",
      "Epoch  58 | train loss 0.000192 | val loss 0.000167\n",
      "Epoch  59 | train loss 0.000191 | val loss 0.000165\n",
      "Epoch  60 | train loss 0.000188 | val loss 0.000155\n",
      "Epoch  61 | train loss 0.000185 | val loss 0.000156\n",
      "Epoch  62 | train loss 0.000191 | val loss 0.000180\n",
      "Epoch  63 | train loss 0.000181 | val loss 0.000198\n",
      "Epoch  64 | train loss 0.000183 | val loss 0.000171\n",
      "Epoch  65 | train loss 0.000178 | val loss 0.000166\n",
      "Epoch  66 | train loss 0.000175 | val loss 0.000161\n",
      "Epoch  67 | train loss 0.000181 | val loss 0.000171\n",
      "Epoch  68 | train loss 0.000178 | val loss 0.000191\n",
      "Epoch  69 | train loss 0.000177 | val loss 0.000172\n",
      "Epoch  70 | train loss 0.000177 | val loss 0.000167\n",
      "Epoch  71 | train loss 0.000172 | val loss 0.000198\n",
      "Epoch  72 | train loss 0.000171 | val loss 0.000144  <-- best val loss so far, model saved\n",
      "Epoch  73 | train loss 0.000171 | val loss 0.000186\n",
      "Epoch  74 | train loss 0.000172 | val loss 0.000184\n",
      "Epoch  75 | train loss 0.000170 | val loss 0.000172\n",
      "Epoch  76 | train loss 0.000167 | val loss 0.000177\n",
      "Epoch  77 | train loss 0.000170 | val loss 0.000157\n",
      "Epoch  78 | train loss 0.000166 | val loss 0.000148\n",
      "Epoch  79 | train loss 0.000164 | val loss 0.000156\n",
      "Epoch  80 | train loss 0.000162 | val loss 0.000158\n",
      "Epoch  81 | train loss 0.000161 | val loss 0.000151\n",
      "Epoch  82 | train loss 0.000162 | val loss 0.000156\n",
      "Epoch  83 | train loss 0.000157 | val loss 0.000152\n",
      "Epoch  84 | train loss 0.000163 | val loss 0.000164\n",
      "Epoch  85 | train loss 0.000162 | val loss 0.000145\n",
      "Epoch  86 | train loss 0.000158 | val loss 0.000142  <-- best val loss so far, model saved\n",
      "Epoch  87 | train loss 0.000160 | val loss 0.000162\n",
      "Epoch  88 | train loss 0.000162 | val loss 0.000175\n",
      "Epoch  89 | train loss 0.000159 | val loss 0.000196\n",
      "Epoch  90 | train loss 0.000155 | val loss 0.000140  <-- best val loss so far, model saved\n",
      "Epoch  91 | train loss 0.000152 | val loss 0.000140\n",
      "Epoch  92 | train loss 0.000154 | val loss 0.000177\n",
      "Epoch  93 | train loss 0.000154 | val loss 0.000147\n",
      "Epoch  94 | train loss 0.000151 | val loss 0.000143\n",
      "Epoch  95 | train loss 0.000152 | val loss 0.000147\n",
      "Epoch  96 | train loss 0.000153 | val loss 0.000154\n",
      "Epoch  97 | train loss 0.000152 | val loss 0.000163\n",
      "Epoch  98 | train loss 0.000151 | val loss 0.000144\n",
      "Epoch  99 | train loss 0.000148 | val loss 0.000178\n",
      "Epoch 100 | train loss 0.000147 | val loss 0.000176\n",
      "Epoch 101 | train loss 0.000148 | val loss 0.000161\n",
      "Epoch 102 | train loss 0.000144 | val loss 0.000182\n",
      "Epoch 103 | train loss 0.000149 | val loss 0.000180\n",
      "Epoch 104 | train loss 0.000148 | val loss 0.000166\n",
      "Epoch 105 | train loss 0.000147 | val loss 0.000165\n",
      "Epoch 106 | train loss 0.000150 | val loss 0.000199\n",
      "Epoch 107 | train loss 0.000145 | val loss 0.000136  <-- best val loss so far, model saved\n",
      "Epoch 108 | train loss 0.000142 | val loss 0.000153\n",
      "Epoch 109 | train loss 0.000146 | val loss 0.000167\n",
      "Epoch 110 | train loss 0.000144 | val loss 0.000147\n",
      "Epoch 111 | train loss 0.000140 | val loss 0.000145\n",
      "Epoch 112 | train loss 0.000143 | val loss 0.000146\n",
      "Epoch 113 | train loss 0.000143 | val loss 0.000177\n",
      "Epoch 114 | train loss 0.000141 | val loss 0.000142\n",
      "Epoch 115 | train loss 0.000142 | val loss 0.000144\n",
      "Epoch 116 | train loss 0.000141 | val loss 0.000142\n",
      "Epoch 117 | train loss 0.000141 | val loss 0.000147\n",
      "Epoch 118 | train loss 0.000148 | val loss 0.000149\n",
      "Epoch 119 | train loss 0.000146 | val loss 0.000140\n",
      "Epoch 120 | train loss 0.000141 | val loss 0.000154\n",
      "Epoch 121 | train loss 0.000135 | val loss 0.000155\n",
      "Epoch 122 | train loss 0.000151 | val loss 0.000160\n",
      "Epoch 123 | train loss 0.000151 | val loss 0.000157\n",
      "Epoch 124 | train loss 0.000135 | val loss 0.000142\n",
      "Epoch 125 | train loss 0.000130 | val loss 0.000137\n",
      "Epoch 126 | train loss 0.000138 | val loss 0.000148\n",
      "Epoch 127 | train loss 0.000136 | val loss 0.000190\n",
      "Epoch 128 | train loss 0.000132 | val loss 0.000152\n",
      "Epoch 129 | train loss 0.000137 | val loss 0.000160\n",
      "Epoch 130 | train loss 0.000137 | val loss 0.000137\n",
      "Epoch 131 | train loss 0.000136 | val loss 0.000134  <-- best val loss so far, model saved\n",
      "Epoch 132 | train loss 0.000132 | val loss 0.000137\n",
      "Epoch 133 | train loss 0.000131 | val loss 0.000132  <-- best val loss so far, model saved\n",
      "Epoch 134 | train loss 0.000132 | val loss 0.000134\n",
      "Epoch 135 | train loss 0.000131 | val loss 0.000161\n",
      "Epoch 136 | train loss 0.000141 | val loss 0.000194\n",
      "Epoch 137 | train loss 0.000133 | val loss 0.000152\n",
      "Epoch 138 | train loss 0.000133 | val loss 0.000163\n",
      "Epoch 139 | train loss 0.000132 | val loss 0.000149\n",
      "Epoch 140 | train loss 0.000127 | val loss 0.000139\n",
      "Epoch 141 | train loss 0.000129 | val loss 0.000137\n",
      "Epoch 142 | train loss 0.000131 | val loss 0.000149\n",
      "Epoch 143 | train loss 0.000129 | val loss 0.000130  <-- best val loss so far, model saved\n",
      "Epoch 144 | train loss 0.000129 | val loss 0.000155\n",
      "Epoch 145 | train loss 0.000128 | val loss 0.000134\n",
      "Epoch 146 | train loss 0.000131 | val loss 0.000172\n",
      "Epoch 147 | train loss 0.000125 | val loss 0.000139\n",
      "Epoch 148 | train loss 0.000129 | val loss 0.000131\n",
      "Epoch 149 | train loss 0.000129 | val loss 0.000135\n",
      "Epoch 150 | train loss 0.000134 | val loss 0.000144\n",
      "Epoch 151 | train loss 0.000133 | val loss 0.000125  <-- best val loss so far, model saved\n",
      "Epoch 152 | train loss 0.000126 | val loss 0.000133\n",
      "Epoch 153 | train loss 0.000128 | val loss 0.000129\n",
      "Epoch 154 | train loss 0.000125 | val loss 0.000135\n",
      "Epoch 155 | train loss 0.000122 | val loss 0.000173\n",
      "Epoch 156 | train loss 0.000138 | val loss 0.000145\n",
      "Epoch 157 | train loss 0.000124 | val loss 0.000129\n",
      "Epoch 158 | train loss 0.000133 | val loss 0.000151\n",
      "Epoch 159 | train loss 0.000133 | val loss 0.000175\n",
      "Epoch 160 | train loss 0.000125 | val loss 0.000148\n",
      "Epoch 161 | train loss 0.000127 | val loss 0.000137\n",
      "Epoch 162 | train loss 0.000124 | val loss 0.000153\n",
      "Epoch 163 | train loss 0.000123 | val loss 0.000138\n",
      "Epoch 164 | train loss 0.000125 | val loss 0.000162\n",
      "Epoch 165 | train loss 0.000123 | val loss 0.000136\n",
      "Epoch 166 | train loss 0.000122 | val loss 0.000143\n",
      "Epoch 167 | train loss 0.000124 | val loss 0.000138\n",
      "Epoch 168 | train loss 0.000120 | val loss 0.000146\n",
      "Epoch 169 | train loss 0.000121 | val loss 0.000135\n",
      "Epoch 170 | train loss 0.000125 | val loss 0.000159\n",
      "Epoch 171 | train loss 0.000134 | val loss 0.000157\n",
      "Epoch 172 | train loss 0.000125 | val loss 0.000133\n",
      "Epoch 173 | train loss 0.000120 | val loss 0.000147\n",
      "Epoch 174 | train loss 0.000118 | val loss 0.000151\n",
      "Epoch 175 | train loss 0.000119 | val loss 0.000161\n",
      "Epoch 176 | train loss 0.000118 | val loss 0.000129\n",
      "Epoch 177 | train loss 0.000120 | val loss 0.000132\n",
      "Epoch 178 | train loss 0.000122 | val loss 0.000142\n",
      "Epoch 179 | train loss 0.000123 | val loss 0.000140\n",
      "Epoch 180 | train loss 0.000118 | val loss 0.000141\n",
      "Epoch 181 | train loss 0.000122 | val loss 0.000152\n",
      "Epoch 182 | train loss 0.000125 | val loss 0.000158\n",
      "Epoch 183 | train loss 0.000119 | val loss 0.000164\n",
      "Epoch 184 | train loss 0.000124 | val loss 0.000149\n",
      "Epoch 185 | train loss 0.000117 | val loss 0.000133\n",
      "Epoch 186 | train loss 0.000119 | val loss 0.000143\n",
      "Epoch 187 | train loss 0.000120 | val loss 0.000126\n",
      "Epoch 188 | train loss 0.000116 | val loss 0.000138\n",
      "Epoch 189 | train loss 0.000119 | val loss 0.000184\n",
      "Epoch 190 | train loss 0.000122 | val loss 0.000146\n",
      "Epoch 191 | train loss 0.000124 | val loss 0.000144\n",
      "Epoch 192 | train loss 0.000118 | val loss 0.000148\n",
      "Epoch 193 | train loss 0.000114 | val loss 0.000134\n",
      "Epoch 194 | train loss 0.000125 | val loss 0.000143\n",
      "Epoch 195 | train loss 0.000121 | val loss 0.000134\n",
      "Epoch 196 | train loss 0.000118 | val loss 0.000144\n",
      "Epoch 197 | train loss 0.000117 | val loss 0.000143\n",
      "Epoch 198 | train loss 0.000120 | val loss 0.000131\n",
      "Epoch 199 | train loss 0.000114 | val loss 0.000141\n",
      "Epoch 200 | train loss 0.000113 | val loss 0.000142\n",
      "Epoch 201 | train loss 0.000115 | val loss 0.000142\n",
      "Epoch 202 | train loss 0.000117 | val loss 0.000144\n",
      "Epoch 203 | train loss 0.000116 | val loss 0.000152\n",
      "Epoch 204 | train loss 0.000117 | val loss 0.000154\n",
      "Epoch 205 | train loss 0.000129 | val loss 0.000134\n",
      "Epoch 206 | train loss 0.000119 | val loss 0.000153\n",
      "Epoch 207 | train loss 0.000114 | val loss 0.000135\n",
      "Epoch 208 | train loss 0.000110 | val loss 0.000129\n",
      "Epoch 209 | train loss 0.000120 | val loss 0.000134\n",
      "Epoch 210 | train loss 0.000118 | val loss 0.000134\n",
      "Epoch 211 | train loss 0.000114 | val loss 0.000132\n",
      "Epoch 212 | train loss 0.000115 | val loss 0.000155\n",
      "Epoch 213 | train loss 0.000113 | val loss 0.000151\n",
      "Epoch 214 | train loss 0.000121 | val loss 0.000134\n",
      "Epoch 215 | train loss 0.000120 | val loss 0.000148\n",
      "Epoch 216 | train loss 0.000115 | val loss 0.000134\n",
      "Epoch 217 | train loss 0.000115 | val loss 0.000133\n",
      "Epoch 218 | train loss 0.000119 | val loss 0.000134\n",
      "Epoch 219 | train loss 0.000114 | val loss 0.000142\n",
      "Epoch 220 | train loss 0.000117 | val loss 0.000132\n",
      "Epoch 221 | train loss 0.000112 | val loss 0.000151\n",
      "Epoch 222 | train loss 0.000111 | val loss 0.000150\n",
      "Epoch 223 | train loss 0.000123 | val loss 0.000144\n",
      "Epoch 224 | train loss 0.000113 | val loss 0.000129\n",
      "Epoch 225 | train loss 0.000118 | val loss 0.000133\n",
      "Epoch 226 | train loss 0.000112 | val loss 0.000128\n",
      "Epoch 227 | train loss 0.000114 | val loss 0.000137\n",
      "Epoch 228 | train loss 0.000111 | val loss 0.000142\n",
      "Epoch 229 | train loss 0.000112 | val loss 0.000142\n",
      "Epoch 230 | train loss 0.000110 | val loss 0.000150\n",
      "Epoch 231 | train loss 0.000110 | val loss 0.000138\n",
      "Epoch 232 | train loss 0.000112 | val loss 0.000128\n",
      "Epoch 233 | train loss 0.000110 | val loss 0.000168\n",
      "Epoch 234 | train loss 0.000114 | val loss 0.000134\n",
      "Epoch 235 | train loss 0.000110 | val loss 0.000144\n",
      "Epoch 236 | train loss 0.000109 | val loss 0.000138\n"
     ]
    },
    {
     "ename": "KeyboardInterrupt",
     "evalue": "",
     "output_type": "error",
     "traceback": [
      "\u001b[31m---------------------------------------------------------------------------\u001b[39m",
      "\u001b[31mKeyboardInterrupt\u001b[39m                         Traceback (most recent call last)",
      "\u001b[36mCell\u001b[39m\u001b[36m \u001b[39m\u001b[32mIn[5]\u001b[39m\u001b[32m, line 6\u001b[39m\n\u001b[32m      4\u001b[39m best_val_loss = \u001b[38;5;28mfloat\u001b[39m(\u001b[33m\"\u001b[39m\u001b[33minf\u001b[39m\u001b[33m\"\u001b[39m)\n\u001b[32m      5\u001b[39m \u001b[38;5;28;01mfor\u001b[39;00m epoch \u001b[38;5;129;01min\u001b[39;00m \u001b[38;5;28mrange\u001b[39m(\u001b[32m0\u001b[39m, EPOCHS):\n\u001b[32m----> \u001b[39m\u001b[32m6\u001b[39m     train_loss = \u001b[43mrun_epoch\u001b[49m\u001b[43m(\u001b[49m\u001b[43mmodel\u001b[49m\u001b[43m,\u001b[49m\u001b[43m \u001b[49m\u001b[43mtrain_loader\u001b[49m\u001b[43m,\u001b[49m\u001b[43m \u001b[49m\u001b[43mloss_fn\u001b[49m\u001b[43m,\u001b[49m\u001b[43m \u001b[49m\u001b[43moptimizer\u001b[49m\u001b[43m,\u001b[49m\u001b[43m \u001b[49m\u001b[43mDEVICE\u001b[49m\u001b[43m)\u001b[49m\n\u001b[32m      7\u001b[39m     val_loss   = run_epoch(model, val_loader,   loss_fn, \u001b[38;5;28;01mNone\u001b[39;00m, DEVICE)\n\u001b[32m      8\u001b[39m     train_losses.append(train_loss)\n",
      "\u001b[36mFile \u001b[39m\u001b[32mc:\\Users\\mmakaranka\\Desktop\\studies\\UMB\\src\\utils.py:38\u001b[39m, in \u001b[36mrun_epoch\u001b[39m\u001b[34m(model, loader, loss_fn, opt, device)\u001b[39m\n\u001b[32m     36\u001b[39m         opt.step()\n\u001b[32m     37\u001b[39m     total += rts.numel()\n\u001b[32m---> \u001b[39m\u001b[32m38\u001b[39m     total_loss += \u001b[43mloss\u001b[49m\u001b[43m.\u001b[49m\u001b[43mitem\u001b[49m\u001b[43m(\u001b[49m\u001b[43m)\u001b[49m * rts.numel()\n\u001b[32m     39\u001b[39m \u001b[38;5;28;01mreturn\u001b[39;00m total_loss / total\n",
      "\u001b[31mKeyboardInterrupt\u001b[39m: "
     ]
    }
   ],
   "source": [
    "train_losses, val_losses = [], []\n",
    "\n",
    "#model.load_state_dict(torch.load(MODEL_PATH, weights_only=True))\n",
    "best_val_loss = float(\"inf\")\n",
    "for epoch in range(0, EPOCHS):\n",
    "    train_loss = run_epoch(model, train_loader, loss_fn, optimizer, DEVICE)\n",
    "    val_loss   = run_epoch(model, val_loader,   loss_fn, None, DEVICE)\n",
    "    train_losses.append(train_loss)\n",
    "    val_losses.append(val_loss)\n",
    "    log_msg = f\"Epoch {epoch:3d} | train loss {train_loss:.6f} | val loss {val_loss:.6f}\"\n",
    "    if val_loss < best_val_loss:\n",
    "        best_val_loss = val_loss\n",
    "        torch.save(model.state_dict(), MODEL_PATH)\n",
    "        log_msg += \"  <-- best val loss so far, model saved\"\n",
    "    print(log_msg)"
   ]
  },
  {
   "cell_type": "markdown",
   "id": "ba0df746",
   "metadata": {},
   "source": [
    "## 6. Plot Training Curve"
   ]
  },
  {
   "cell_type": "code",
   "execution_count": 6,
   "id": "dc468fc3",
   "metadata": {},
   "outputs": [
    {
     "data": {
      "image/png": "[encoded data removed]",
      "text/plain": [
       "<Figure size 1000x800 with 1 Axes>"
      ]
     },
     "metadata": {},
     "output_type": "display_data"
    }
   ],
   "source": [
    "plt.figure(figsize=(10, 8))\n",
    "plt.plot(train_losses, label='Train loss')\n",
    "plt.plot(val_losses, label='Val loss')\n",
    "plt.xlabel('Epoch')\n",
    "plt.ylabel('Loss')\n",
    "plt.legend()\n",
    "plt.title('Training Curve')\n",
    "plt.grid(True)\n",
    "plt.show()"
   ]
  },
  {
   "cell_type": "markdown",
   "id": "92367ddf",
   "metadata": {},
   "source": [
    "## 7. Compute Main Metrics for Trained Model"
   ]
  },
  {
   "cell_type": "code",
   "execution_count": 8,
   "id": "ee44c8f5",
   "metadata": {},
   "outputs": [
    {
     "name": "stderr",
     "output_type": "stream",
     "text": [
      "c:\\Users\\mmakaranka\\AppData\\Local\\pypoetry\\Cache\\virtualenvs\\peptide-rt-transformer-KivCupBj-py3.12\\Lib\\site-packages\\torch\\nn\\modules\\transformer.py:505: UserWarning: The PyTorch API of nested tensors is in prototype stage and will change in the near future. We recommend specifying layout=torch.jagged when constructing a nested tensor, as this layout receives active development, has better operator coverage, and works with torch.compile. (Triggered internally at C:\\actions-runner\\_work\\pytorch\\pytorch\\pytorch\\aten\\src\\ATen\\NestedTensorImpl.cpp:182.)\n",
      "  output = torch._nested_tensor_from_mask(\n"
     ]
    },
    {
     "name": "stdout",
     "output_type": "stream",
     "text": [
      "\n",
      "Validation metrics for model:\n",
      "MAE       : 0.01111\n",
      "MSE       : 0.00025\n",
      "RMSE      : 0.01579\n",
      "Max_Abs_Error: 0.23449\n",
      "Median_Abs_Error: 0.00812\n",
      "Mean_Abs_Percentage_Error: 0.02992\n",
      "Std_Error : 0.01579\n",
      "Std_True  : 0.18900\n",
      "Std_Pred  : 0.18973\n",
      "R2        : 0.99302\n",
      "Explained_Variance: 0.99302\n",
      "Pearson   : 0.99653\n",
      "Spearman  : 0.99733\n"
     ]
    }
   ],
   "source": [
    "model.load_state_dict(torch.load(MODEL_PATH, weights_only=True))\n",
    "\n",
    "model.eval()\n",
    "all_preds, all_trues = [], []\n",
    "with torch.no_grad():\n",
    "    for seqs, mask, rts in val_loader:\n",
    "        seqs, mask, rts = seqs.to(DEVICE), mask.to(DEVICE), rts.to(DEVICE)\n",
    "        preds = model(seqs, mask)\n",
    "        all_preds.append(preds.cpu())\n",
    "        all_trues.append(rts.cpu())\n",
    "all_preds = torch.cat(all_preds)\n",
    "all_trues = torch.cat(all_trues)\n",
    "\n",
    "metrics = compute_metrics(all_preds, all_trues)\n",
    "print(\"\\nValidation metrics for model:\")\n",
    "for k, v in metrics.items():\n",
    "    print(f\"{k:10s}: {v:.5f}\")\n"
   ]
  }
 ],
 "metadata": {
  "kernelspec": {
   "display_name": "Python 3",
   "language": "python",
   "name": "python3"
  },
  "language_info": {
   "codemirror_mode": {
    "name": "ipython",
    "version": 3
   },
   "file_extension": ".py",
   "mimetype": "text/x-python",
   "name": "python",
   "nbconvert_exporter": "python",
   "pygments_lexer": "ipython3",
   "version": "3.12.0"
  }
 },
 "nbformat": 4,
 "nbformat_minor": 5
}
